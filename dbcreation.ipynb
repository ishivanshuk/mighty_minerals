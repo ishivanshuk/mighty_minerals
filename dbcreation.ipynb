{
 "cells": [
  {
   "cell_type": "code",
   "execution_count": 1,
   "id": "cef485e3",
   "metadata": {},
   "outputs": [],
   "source": [
    "import csv\n",
    "import rsa\n",
    "f=open('prod_data.csv','w')"
   ]
  },
  {
   "cell_type": "code",
   "execution_count": 2,
   "id": "a5007180",
   "metadata": {},
   "outputs": [],
   "source": [
    "header = ['name', 'mfg_date_dd-mm-yy','batch_number', 'number_products','checked','prod_id','hash']"
   ]
  },
  {
   "cell_type": "code",
   "execution_count": 3,
   "id": "9ca86568",
   "metadata": {},
   "outputs": [],
   "source": [
    "writer = csv.writer(f)"
   ]
  },
  {
   "cell_type": "code",
   "execution_count": 4,
   "id": "2f999fd5",
   "metadata": {},
   "outputs": [
    {
     "data": {
      "text/plain": [
       "74"
      ]
     },
     "execution_count": 4,
     "metadata": {},
     "output_type": "execute_result"
    }
   ],
   "source": [
    "writer.writerow(header)"
   ]
  },
  {
   "cell_type": "code",
   "execution_count": 5,
   "id": "f8badc5b",
   "metadata": {},
   "outputs": [],
   "source": [
    "data = [['test_name','21-03-2022','WP50050MD',200,'NO','','']]"
   ]
  },
  {
   "cell_type": "code",
   "execution_count": 6,
   "id": "23264a34",
   "metadata": {},
   "outputs": [],
   "source": [
    "for i in range(0,200):\n",
    "    writer.writerows(data)\n",
    "f.close()"
   ]
  },
  {
   "cell_type": "code",
   "execution_count": 7,
   "id": "d8d48c83",
   "metadata": {},
   "outputs": [],
   "source": [
    "import pandas as pd\n",
    "df=pd.read_csv('prod_data.csv')"
   ]
  },
  {
   "cell_type": "code",
   "execution_count": 8,
   "id": "f4158094",
   "metadata": {},
   "outputs": [],
   "source": [
    "for i in range(0,200):\n",
    "    x=\"{:03d}\".format(i); #enter number of digits in number of products in table\n",
    "    df.loc[i,'prod_id']=df.loc[0,'batch_number']+x"
   ]
  },
  {
   "cell_type": "code",
   "execution_count": 9,
   "id": "baa87cd3",
   "metadata": {
    "scrolled": true
   },
   "outputs": [
    {
     "name": "stdout",
     "output_type": "stream",
     "text": [
      "          name mfg_date_dd-mm-yy batch_number  number_products checked  \\\n",
      "0    test_name        21-03-2022    WP50050MD              200      NO   \n",
      "1    test_name        21-03-2022    WP50050MD              200      NO   \n",
      "2    test_name        21-03-2022    WP50050MD              200      NO   \n",
      "3    test_name        21-03-2022    WP50050MD              200      NO   \n",
      "4    test_name        21-03-2022    WP50050MD              200      NO   \n",
      "..         ...               ...          ...              ...     ...   \n",
      "195  test_name        21-03-2022    WP50050MD              200      NO   \n",
      "196  test_name        21-03-2022    WP50050MD              200      NO   \n",
      "197  test_name        21-03-2022    WP50050MD              200      NO   \n",
      "198  test_name        21-03-2022    WP50050MD              200      NO   \n",
      "199  test_name        21-03-2022    WP50050MD              200      NO   \n",
      "\n",
      "          prod_id  hash  \n",
      "0    WP50050MD000   NaN  \n",
      "1    WP50050MD001   NaN  \n",
      "2    WP50050MD002   NaN  \n",
      "3    WP50050MD003   NaN  \n",
      "4    WP50050MD004   NaN  \n",
      "..            ...   ...  \n",
      "195  WP50050MD195   NaN  \n",
      "196  WP50050MD196   NaN  \n",
      "197  WP50050MD197   NaN  \n",
      "198  WP50050MD198   NaN  \n",
      "199  WP50050MD199   NaN  \n",
      "\n",
      "[200 rows x 7 columns]\n"
     ]
    }
   ],
   "source": [
    "print(df)\n"
   ]
  },
  {
   "cell_type": "code",
   "execution_count": 10,
   "id": "4ad3f3ca",
   "metadata": {},
   "outputs": [],
   "source": [
    "def generateKeys():\n",
    "    (publicKey, privateKey) = rsa.newkeys(256)\n",
    "    with open('keys/publicKey.pem', 'wb') as p:\n",
    "        p.write(publicKey.save_pkcs1('PEM'))\n",
    "    with open('keys/privateKey.pem', 'wb') as p:\n",
    "        p.write(privateKey.save_pkcs1('PEM'))"
   ]
  },
  {
   "cell_type": "code",
   "execution_count": 11,
   "id": "465d86ce",
   "metadata": {},
   "outputs": [],
   "source": [
    "def loadKeys():\n",
    "    with open('keys/publicKey.pem', 'rb') as p:\n",
    "        publicKey = rsa.PublicKey.load_pkcs1(p.read())\n",
    "    with open('keys/privateKey.pem', 'rb') as p:\n",
    "        privateKey = rsa.PrivateKey.load_pkcs1(p.read())\n",
    "    return privateKey, publicKey"
   ]
  },
  {
   "cell_type": "code",
   "execution_count": 12,
   "id": "a123d3b5",
   "metadata": {},
   "outputs": [],
   "source": [
    "def encrypt(message, key):\n",
    "    return rsa.encrypt(message.encode('ascii'), key)"
   ]
  },
  {
   "cell_type": "code",
   "execution_count": 13,
   "id": "1d821f92",
   "metadata": {},
   "outputs": [],
   "source": [
    "def decrypt(ciphertext, key):\n",
    "    try:\n",
    "        return rsa.decrypt(ciphertext, key).decode('ascii')\n",
    "    except:\n",
    "        return False"
   ]
  },
  {
   "cell_type": "code",
   "execution_count": 14,
   "id": "b8985648",
   "metadata": {},
   "outputs": [],
   "source": [
    "generateKeys()\n",
    "privateKey, publicKey =loadKeys()"
   ]
  },
  {
   "cell_type": "code",
   "execution_count": 15,
   "id": "2428d8b2",
   "metadata": {},
   "outputs": [],
   "source": [
    "for i in range(0,200):\n",
    "    enc_data=df.loc[i,'prod_id']\n",
    "    df.loc[i,'hash']=encrypt(enc_data,publicKey)"
   ]
  },
  {
   "cell_type": "code",
   "execution_count": 16,
   "id": "84714981",
   "metadata": {},
   "outputs": [
    {
     "name": "stdout",
     "output_type": "stream",
     "text": [
      "          name mfg_date_dd-mm-yy batch_number  number_products checked  \\\n",
      "0    test_name        21-03-2022    WP50050MD              200      NO   \n",
      "1    test_name        21-03-2022    WP50050MD              200      NO   \n",
      "2    test_name        21-03-2022    WP50050MD              200      NO   \n",
      "3    test_name        21-03-2022    WP50050MD              200      NO   \n",
      "4    test_name        21-03-2022    WP50050MD              200      NO   \n",
      "..         ...               ...          ...              ...     ...   \n",
      "195  test_name        21-03-2022    WP50050MD              200      NO   \n",
      "196  test_name        21-03-2022    WP50050MD              200      NO   \n",
      "197  test_name        21-03-2022    WP50050MD              200      NO   \n",
      "198  test_name        21-03-2022    WP50050MD              200      NO   \n",
      "199  test_name        21-03-2022    WP50050MD              200      NO   \n",
      "\n",
      "          prod_id                                               hash  \n",
      "0    WP50050MD000  b'IP\\x1f\\xc7\\xc1)\\x1c5\\x05f\\xd8/5[\\xe8+\\xdeS\\x...  \n",
      "1    WP50050MD001  b'<JL\\xf6\\x0c\\xebOj\\xf9\\x02\\x7f\\xa0X\\x1f\\x83\\x...  \n",
      "2    WP50050MD002  b'r\\x90|\\xbc\\xed\\x82\\xb0\\x15A :\\x1b\\xb4h\\x02\\x...  \n",
      "3    WP50050MD003  b'{\\xd6\\x81\\x93\\xc8B9(\\xa3\\x0c\\xd6\\x93\\xfd\\xdf...  \n",
      "4    WP50050MD004  b'\\x0c_\\xa8\\xd2g3\\x94n\\xb4(\\x10/T0Ug\\xcae\\xde+...  \n",
      "..            ...                                                ...  \n",
      "195  WP50050MD195  b'Z\\xc4&\\xf1G^\\xaeB\\xc2$\\xba\\x8c\\x18\\x1c`oJ4\\x...  \n",
      "196  WP50050MD196  b'\\x88\\xcc\\xd9\\xc6\\xe9X\\xe9\\xc4V\\xc7R\\xfb\\x96\\...  \n",
      "197  WP50050MD197  b\")t`>NK5\\xd1\\x0e\\xa7\\xa8\\x82\\x8d!6k'\\xa6LWo\\x...  \n",
      "198  WP50050MD198  b'\\x1f\\xdc\\xc2\\xb9\\xf28\\xda*\\x8f\\x8b\\xad\\xa0%\\...  \n",
      "199  WP50050MD199  b'\\x16\\x95\\x9dK\\x85o1\\xff\\xe2+\\x85\\x04\\x83l\\xa...  \n",
      "\n",
      "[200 rows x 7 columns]\n"
     ]
    }
   ],
   "source": [
    "print(df)"
   ]
  },
  {
   "cell_type": "code",
   "execution_count": 17,
   "id": "6b96aefd",
   "metadata": {},
   "outputs": [],
   "source": [
    "df.to_csv('prod_data.csv')"
   ]
  },
  {
   "cell_type": "code",
   "execution_count": null,
   "id": "61bef6b1",
   "metadata": {},
   "outputs": [],
   "source": []
  }
 ],
 "metadata": {
  "kernelspec": {
   "display_name": "Python 3 (ipykernel)",
   "language": "python",
   "name": "python3"
  },
  "language_info": {
   "codemirror_mode": {
    "name": "ipython",
    "version": 3
   },
   "file_extension": ".py",
   "mimetype": "text/x-python",
   "name": "python",
   "nbconvert_exporter": "python",
   "pygments_lexer": "ipython3",
   "version": "3.10.3"
  }
 },
 "nbformat": 4,
 "nbformat_minor": 5
}
